{
 "cells": [
  {
   "cell_type": "code",
   "execution_count": 1,
   "metadata": {},
   "outputs": [],
   "source": [
    "import numpy as np\n",
    "import torch\n",
    "import torch.nn as nn\n",
    "import torch.nn.functional as F\n",
    "from PIL import Image\n",
    "from matplotlib import pyplot as plt"
   ]
  },
  {
   "cell_type": "code",
   "execution_count": 2,
   "metadata": {},
   "outputs": [],
   "source": [
    "def compute_iou(truth, output_classes, num_classes: int):\n",
    "    class_count = 0\n",
    "    iou = 0.0\n",
    "    for c in range(num_classes):\n",
    "        # Create tensors with 1 for every pixel labelled with this class, and 0 otherwise. We then\n",
    "        # add these tensors. The result has 2 for the intersection, and 1 or 2 for the union.\n",
    "\n",
    "        truth_for_class = torch.where(truth == c, torch.ones_like(truth, dtype=torch.int),\n",
    "                                      torch.zeros_like(truth, dtype=torch.int))\n",
    "\n",
    "        output_for_class = torch.where(output_classes == c, torch.ones_like(output_classes, dtype=torch.int),\n",
    "                                       torch.zeros_like(output_classes, dtype=torch.int))\n",
    "\n",
    "        result = truth_for_class + output_for_class\n",
    "        # View in 1D as bincount only supports 1D.\n",
    "        # We expect values 0, 1, 2 for no object, one object and both objects respectively.\n",
    "        counts = torch.bincount(result.view(-1), minlength=3)\n",
    "\n",
    "        assert counts.size(0) == 3, 'Wrong number of bins: {}'.format(counts)\n",
    "\n",
    "        intersection = counts[2].item()\n",
    "        union = counts[1].item() + counts[2].item()\n",
    "        \n",
    "        print(f'class={c}, intersection={intersection}, union={union}')\n",
    "\n",
    "        if union > 0:\n",
    "            class_count += 1\n",
    "            iou += intersection / union\n",
    "\n",
    "    return iou / class_count"
   ]
  },
  {
   "cell_type": "markdown",
   "metadata": {},
   "source": [
    "Ground truth:"
   ]
  },
  {
   "cell_type": "code",
   "execution_count": 3,
   "metadata": {},
   "outputs": [
    {
     "data": {
      "text/plain": [
       "<matplotlib.image.AxesImage at 0x12159a198>"
      ]
     },
     "execution_count": 3,
     "metadata": {},
     "output_type": "execute_result"
    },
    {
     "data": {
      "image/png": "[encoded data removed]",
      "text/plain": [
       "<Figure size 432x288 with 1 Axes>"
      ]
     },
     "metadata": {
      "needs_background": "light"
     },
     "output_type": "display_data"
    }
   ],
   "source": [
    "image = np.asarray(Image.open('../example-tiny-cityscapes/aachen/aachen_000000_000019_gtFine_labelIds.png')).copy()\n",
    "image[image == 255] = 19\n",
    "plt.imshow(image)"
   ]
  },
  {
   "cell_type": "code",
   "execution_count": 4,
   "metadata": {},
   "outputs": [],
   "source": [
    "def rem255(a):\n",
    "    return np.where(a != 255, a, np.zeros_like(a))"
   ]
  },
  {
   "cell_type": "markdown",
   "metadata": {},
   "source": [
    "Ground truth downsampled to 16x32, the output size of the decoder:"
   ]
  },
  {
   "cell_type": "code",
   "execution_count": 4,
   "metadata": {},
   "outputs": [
    {
     "data": {
      "text/plain": [
       "<matplotlib.image.AxesImage at 0x111d39ba8>"
      ]
     },
     "execution_count": 4,
     "metadata": {},
     "output_type": "execute_result"
    },
    {
     "data": {
      "image/png": "[encoded data removed]",
      "text/plain": [
       "<Figure size 432x288 with 1 Axes>"
      ]
     },
     "metadata": {
      "needs_background": "light"
     },
     "output_type": "display_data"
    }
   ],
   "source": [
    "def to_one_hot(x):\n",
    "    oh_x = np.zeros((20,) + x.shape)\n",
    "    x_19 = image.copy()\n",
    "    x_19[x_19 == 255] = 19\n",
    "    # Convert to one hot\n",
    "    oh_x[x_19, np.expand_dims(range(x.shape[0]), 1), np.expand_dims(range(x.shape[1]), 0)] = 1\n",
    "    return oh_x\n",
    "\n",
    "def from_one_hot(x):\n",
    "    return np.argmax(x, axis=0)\n",
    "\n",
    "test = from_one_hot(to_one_hot(image))\n",
    "test[test == 19] = 255\n",
    "np.unique(test == image)\n",
    "plt.imshow(from_one_hot(to_one_hot(image)))"
   ]
  },
  {
   "cell_type": "code",
   "execution_count": 55,
   "metadata": {},
   "outputs": [
    {
     "name": "stdout",
     "output_type": "stream",
     "text": [
      "(16, 32)\n"
     ]
    },
    {
     "data": {
      "text/plain": [
       "<matplotlib.image.AxesImage at 0x113215dd8>"
      ]
     },
     "execution_count": 55,
     "metadata": {},
     "output_type": "execute_result"
    },
    {
     "data": {
      "image/png": "[encoded data removed]",
      "text/plain": [
       "<Figure size 432x288 with 1 Axes>"
      ]
     },
     "metadata": {
      "needs_background": "light"
     },
     "output_type": "display_data"
    }
   ],
   "source": [
    "image_t = torch.tensor(image).unsqueeze(0).unsqueeze(0).float()\n",
    "downsampled_t = F.interpolate(image_t, size=(16,32), mode='nearest')\n",
    "downsampled = downsampled_t.numpy().squeeze()\n",
    "print(downsampled.shape)\n",
    "plt.imshow(downsampled)\n",
    "# plt.imshow(from_one_hot(downsampled))"
   ]
  },
  {
   "cell_type": "markdown",
   "metadata": {},
   "source": [
    "Upsample the image again, and compute the IOU"
   ]
  },
  {
   "cell_type": "code",
   "execution_count": 36,
   "metadata": {},
   "outputs": [
    {
     "name": "stderr",
     "output_type": "stream",
     "text": [
      "/usr/local/lib/python3.7/site-packages/torch/nn/functional.py:1961: UserWarning: Default upsampling behavior when mode=bilinear is changed to align_corners=False since 0.4.0. Please specify align_corners=True if the old behavior is desired. See the documentation of nn.Upsample for details.\n",
      "  \"See the documentation of nn.Upsample for details.\".format(mode))\n"
     ]
    },
    {
     "data": {
      "text/plain": [
       "(20, 128, 256)"
      ]
     },
     "execution_count": 36,
     "metadata": {},
     "output_type": "execute_result"
    }
   ],
   "source": [
    "upsampled_t = F.interpolate(downsampled_t, size=(128,256), mode='bilinear') #, align_corners=False\n",
    "upsampled_t = upsampled_t.round()\n",
    "upsampled = upsampled_t.numpy().squeeze()"
   ]
  },
  {
   "cell_type": "code",
   "execution_count": 37,
   "metadata": {},
   "outputs": [
    {
     "data": {
      "text/plain": [
       "array([0., 1.], dtype=float32)"
      ]
     },
     "execution_count": 37,
     "metadata": {},
     "output_type": "execute_result"
    },
    {
     "data": {
      "image/png": "[encoded data removed]",
      "text/plain": [
       "<Figure size 432x288 with 1 Axes>"
      ]
     },
     "metadata": {
      "needs_background": "light"
     },
     "output_type": "display_data"
    }
   ],
   "source": [
    "plt.imshow(from_one_hot(upsampled))\n",
    "np.unique(upsampled)"
   ]
  },
  {
   "cell_type": "code",
   "execution_count": 43,
   "metadata": {},
   "outputs": [
    {
     "name": "stdout",
     "output_type": "stream",
     "text": [
      "class=0, intersection=11481, union=14425\n",
      "class=1, intersection=19, union=605\n",
      "class=2, intersection=7406, union=11112\n",
      "class=3, intersection=0, union=0\n",
      "class=4, intersection=0, union=0\n",
      "class=5, intersection=2, union=366\n",
      "class=6, intersection=0, union=0\n",
      "class=7, intersection=272, union=756\n",
      "class=8, intersection=2618, union=3852\n",
      "class=9, intersection=1318, union=3087\n",
      "class=10, intersection=133, union=714\n",
      "class=11, intersection=15, union=48\n",
      "class=12, intersection=12, union=62\n",
      "class=13, intersection=281, union=870\n",
      "class=14, intersection=0, union=0\n",
      "class=15, intersection=0, union=0\n",
      "class=16, intersection=0, union=0\n",
      "class=17, intersection=0, union=0\n",
      "class=18, intersection=0, union=75\n",
      "class=19, intersection=1075, union=4932\n"
     ]
    },
    {
     "data": {
      "text/plain": [
       "0.32299451893435766"
      ]
     },
     "execution_count": 43,
     "metadata": {},
     "output_type": "execute_result"
    }
   ],
   "source": [
    "# print(image_t.shape)\n",
    "compute_iou(torch.argmax(image_t, dim=1), torch.argmax(upsampled_t, dim=1), 20)"
   ]
  },
  {
   "cell_type": "markdown",
   "metadata": {},
   "source": [
    "Directly optimise a 16x32 image so, when upscaled to 128x256, it matches the ground truth:"
   ]
  },
  {
   "cell_type": "code",
   "execution_count": 5,
   "metadata": {},
   "outputs": [
    {
     "name": "stderr",
     "output_type": "stream",
     "text": [
      "/Users/oscar/.local/share/virtualenvs/multitask-learning-gPiQRYl0/lib/python3.7/site-packages/torch/nn/functional.py:2423: UserWarning: Default upsampling behavior when mode=bilinear is changed to align_corners=False since 0.4.0. Please specify align_corners=True if the old behavior is desired. See the documentation of nn.Upsample for details.\n",
      "  \"See the documentation of nn.Upsample for details.\".format(mode))\n"
     ]
    },
    {
     "name": "stdout",
     "output_type": "stream",
     "text": [
      "0: 3.0073115825653076\n",
      "500: 1.7423580884933472\n",
      "1000: 0.870158314704895\n",
      "1500: 0.46155744791030884\n",
      "2000: 0.30699339509010315\n",
      "2500: 0.2427070289850235\n",
      "3000: 0.21227431297302246\n",
      "3500: 0.19636209309101105\n",
      "4000: 0.1871759593486786\n",
      "4500: 0.18138593435287476\n",
      "5000: 0.17703475058078766\n",
      "5500: 0.1736767292022705\n",
      "6000: 0.17091447114944458\n",
      "6500: 0.1684494912624359\n",
      "7000: 0.16615134477615356\n",
      "7500: 0.1641867309808731\n",
      "8000: 0.1625485122203827\n",
      "8500: 0.16110938787460327\n",
      "9000: 0.15989984571933746\n",
      "9500: 0.15877562761306763\n",
      "10000: 0.1576707810163498\n",
      "10500: 0.15660886466503143\n",
      "11000: 0.1557387411594391\n",
      "11500: 0.15501350164413452\n",
      "12000: 0.15430805087089539\n",
      "12500: 0.15369881689548492\n",
      "13000: 0.153193861246109\n",
      "13500: 0.15275271236896515\n",
      "14000: 0.15229007601737976\n",
      "14500: 0.15185530483722687\n",
      "15000: 0.15147832036018372\n",
      "15500: 0.1511419415473938\n",
      "16000: 0.15083903074264526\n",
      "16500: 0.15055924654006958\n",
      "17000: 0.15028929710388184\n",
      "17500: 0.15005789697170258\n",
      "18000: 0.14985297620296478\n",
      "18500: 0.14963360130786896\n",
      "19000: 0.14940975606441498\n",
      "19500: 0.149201437830925\n",
      "20000: 0.14901931583881378\n",
      "20500: 0.14886756241321564\n",
      "21000: 0.14872533082962036\n",
      "21500: 0.1486060917377472\n",
      "22000: 0.14849993586540222\n",
      "22500: 0.14840573072433472\n",
      "23000: 0.1482996791601181\n",
      "23500: 0.14820906519889832\n",
      "24000: 0.14814236760139465\n",
      "24500: 0.14808189868927002\n",
      "25000: 0.14802584052085876\n",
      "25500: 0.14798566699028015\n",
      "26000: 0.14797420799732208\n",
      "26500: 0.14798220992088318\n",
      "27000: 0.1479843556880951\n",
      "27500: 0.14797304570674896\n",
      "28000: 0.14796385169029236\n",
      "28500: 0.14795447885990143\n",
      "29000: 0.14792872965335846\n",
      "29500: 0.14789535105228424\n",
      "Done\n"
     ]
    }
   ],
   "source": [
    "li = torch.rand(1, 20,16,32, requires_grad=True)\n",
    "truth = torch.tensor(image).unsqueeze(0).long()\n",
    "\n",
    "ce_loss = nn.CrossEntropyLoss(ignore_index=255)\n",
    "optimizer = torch.optim.Adam([li], lr=0.001)\n",
    "\n",
    "losses = []\n",
    "for i in range(30000):\n",
    "    up = F.interpolate(li, size=(128,256), mode='bilinear')\n",
    "    loss = ce_loss(up, truth)\n",
    "    \n",
    "    loss.backward()\n",
    "    optimizer.step()\n",
    "    \n",
    "    losses.append(loss.item())\n",
    "    \n",
    "    if i % 500 == 0:\n",
    "        print(f'{i}: {loss}')\n",
    "    \n",
    "print('Done')"
   ]
  },
  {
   "cell_type": "code",
   "execution_count": 103,
   "metadata": {},
   "outputs": [],
   "source": [
    "output = F.interpolate(li.clone().detach(), size=(128,256), mode='bilinear').squeeze().numpy()"
   ]
  },
  {
   "cell_type": "code",
   "execution_count": 105,
   "metadata": {},
   "outputs": [
    {
     "name": "stdout",
     "output_type": "stream",
     "text": [
      "(20, 128, 256)\n"
     ]
    },
    {
     "data": {
      "image/png": "[encoded data removed]",
      "text/plain": [
       "<Figure size 432x288 with 1 Axes>"
      ]
     },
     "metadata": {
      "needs_background": "light"
     },
     "output_type": "display_data"
    }
   ],
   "source": [
    "plt.imshow(rem255(output.argmax(0)))\n",
    "plt.show()"
   ]
  },
  {
   "cell_type": "code",
   "execution_count": 128,
   "metadata": {},
   "outputs": [
    {
     "name": "stdout",
     "output_type": "stream",
     "text": [
      "class=0, intersection=12823, union=14536\n",
      "class=1, intersection=407, union=559\n",
      "class=2, intersection=9243, union=10289\n",
      "class=3, intersection=0, union=0\n",
      "class=4, intersection=0, union=0\n",
      "class=5, intersection=48, union=403\n",
      "class=6, intersection=0, union=0\n",
      "class=7, intersection=468, union=609\n",
      "class=8, intersection=3259, union=3733\n",
      "class=9, intersection=1945, union=2254\n",
      "class=10, intersection=539, union=679\n",
      "class=11, intersection=20, union=37\n",
      "class=12, intersection=21, union=49\n",
      "class=13, intersection=601, union=728\n",
      "class=14, intersection=0, union=0\n",
      "class=15, intersection=0, union=0\n",
      "class=16, intersection=0, union=0\n",
      "class=17, intersection=0, union=0\n",
      "class=18, intersection=22, union=59\n",
      "class=19, intersection=0, union=0\n"
     ]
    },
    {
     "data": {
      "text/plain": [
       "0.6744541768758298"
      ]
     },
     "execution_count": 128,
     "metadata": {},
     "output_type": "execute_result"
    }
   ],
   "source": [
    "compute_iou(truth, torch.tensor(output.argmax(0)), 20)"
   ]
  }
 ],
 "metadata": {
  "kernelspec": {
   "display_name": "Python 3",
   "language": "python",
   "name": "python3"
  },
  "language_info": {
   "codemirror_mode": {
    "name": "ipython",
    "version": 3
   },
   "file_extension": ".py",
   "mimetype": "text/x-python",
   "name": "python",
   "nbconvert_exporter": "python",
   "pygments_lexer": "ipython3",
   "version": "3.7.2"
  }
 },
 "nbformat": 4,
 "nbformat_minor": 2
}
