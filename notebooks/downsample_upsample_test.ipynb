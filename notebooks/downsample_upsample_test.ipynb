{
 "cells": [
  {
   "cell_type": "code",
   "execution_count": 81,
   "metadata": {},
   "outputs": [],
   "source": [
    "import numpy as np\n",
    "import torch\n",
    "import torch.nn as nn\n",
    "import torch.nn.functional as F\n",
    "from PIL import Image\n",
    "from matplotlib import pyplot as plt"
   ]
  },
  {
   "cell_type": "code",
   "execution_count": null,
   "metadata": {},
   "outputs": [],
   "source": [
    "def compute_iou(truth, output_classes, num_classes: int):\n",
    "    class_count = 0\n",
    "    iou = 0.0\n",
    "    for c in range(num_classes):\n",
    "        # Create tensors with 1 for every pixel labelled with this class, and 0 otherwise. We then\n",
    "        # add these tensors. The result has 2 for the intersection, and 1 or 2 for the union.\n",
    "\n",
    "        truth_for_class = torch.where(truth == c, torch.ones_like(truth, dtype=torch.int),\n",
    "                                      torch.zeros_like(truth, dtype=torch.int))\n",
    "\n",
    "        output_for_class = torch.where(output_classes == c, torch.ones_like(output_classes, dtype=torch.int),\n",
    "                                       torch.zeros_like(output_classes, dtype=torch.int))\n",
    "\n",
    "        result = truth_for_class + output_for_class\n",
    "        # View in 1D as bincount only supports 1D.\n",
    "        # We expect values 0, 1, 2 for no object, one object and both objects respectively.\n",
    "        counts = torch.bincount(result.view(-1), minlength=3)\n",
    "\n",
    "        assert counts.size(0) == 3, 'Wrong number of bins: {}'.format(counts)\n",
    "\n",
    "        intersection = counts[2].item()\n",
    "        union = counts[1].item() + counts[2].item()\n",
    "        \n",
    "        print(f'class={c}, intersection={intersection}, union={union}')\n",
    "\n",
    "        if union > 0:\n",
    "            class_count += 1\n",
    "            iou += intersection / union\n",
    "\n",
    "    return iou / class_count"
   ]
  },
  {
   "cell_type": "markdown",
   "metadata": {},
   "source": [
    "Ground truth:"
   ]
  },
  {
   "cell_type": "code",
   "execution_count": 8,
   "metadata": {},
   "outputs": [
    {
     "data": {
      "text/plain": [
       "<matplotlib.image.AxesImage at 0x11ef44c50>"
      ]
     },
     "execution_count": 8,
     "metadata": {},
     "output_type": "execute_result"
    },
    {
     "data": {
      "image/png": "[encoded data removed]",
      "text/plain": [
       "<Figure size 432x288 with 1 Axes>"
      ]
     },
     "metadata": {
      "needs_background": "light"
     },
     "output_type": "display_data"
    }
   ],
   "source": [
    "image = np.asarray(Image.open('../example-tiny-cityscapes/aachen/aachen_000000_000019_gtFine_labelIds.png'))\n",
    "plt.imshow(np.where(image != 255, image, np.zeros_like(image)))"
   ]
  },
  {
   "cell_type": "code",
   "execution_count": 58,
   "metadata": {},
   "outputs": [],
   "source": [
    "def rem255(a):\n",
    "    return np.where(a != 255, a, np.zeros_like(a))"
   ]
  },
  {
   "cell_type": "markdown",
   "metadata": {},
   "source": [
    "Ground truth downsampled to 16x32, the output size of the decoder:"
   ]
  },
  {
   "cell_type": "code",
   "execution_count": 66,
   "metadata": {},
   "outputs": [
    {
     "data": {
      "text/plain": [
       "<matplotlib.image.AxesImage at 0x11fc0f128>"
      ]
     },
     "execution_count": 66,
     "metadata": {},
     "output_type": "execute_result"
    },
    {
     "data": {
      "image/png": "[encoded data removed]",
      "text/plain": [
       "<Figure size 432x288 with 1 Axes>"
      ]
     },
     "metadata": {
      "needs_background": "light"
     },
     "output_type": "display_data"
    }
   ],
   "source": [
    "image_t = torch.tensor(image).unsqueeze(0).unsqueeze(0).float()\n",
    "downsampled_t = F.interpolate(image_t, size=(16,32), mode='nearest')\n",
    "downsampled = downsampled_t.numpy().squeeze()\n",
    "downsampled.shape\n",
    "plt.imshow(rem255(downsampled))"
   ]
  },
  {
   "cell_type": "markdown",
   "metadata": {},
   "source": [
    "Upsample the image again, and compute the IOU"
   ]
  },
  {
   "cell_type": "code",
   "execution_count": 69,
   "metadata": {},
   "outputs": [],
   "source": [
    "upsampled_t = F.interpolate(downsampled_t, size=(128,256), mode='nearest') #, align_corners=False\n",
    "upsampled_t = upsampled_t.round()\n",
    "upsampled = upsampled_t.numpy().squeeze()"
   ]
  },
  {
   "cell_type": "code",
   "execution_count": 70,
   "metadata": {},
   "outputs": [
    {
     "data": {
      "text/plain": [
       "array([  0.,   1.,   2.,   5.,   7.,   8.,   9.,  10.,  11.,  12.,  13.,\n",
       "        18., 255.], dtype=float32)"
      ]
     },
     "execution_count": 70,
     "metadata": {},
     "output_type": "execute_result"
    },
    {
     "data": {
      "image/png": "[encoded data removed]",
      "text/plain": [
       "<Figure size 432x288 with 1 Axes>"
      ]
     },
     "metadata": {
      "needs_background": "light"
     },
     "output_type": "display_data"
    }
   ],
   "source": [
    "plt.imshow(np.where(upsampled != 255, upsampled, np.zeros_like(upsampled)))\n",
    "np.unique(upsampled)"
   ]
  },
  {
   "cell_type": "code",
   "execution_count": 79,
   "metadata": {},
   "outputs": [
    {
     "data": {
      "text/plain": [
       "0.3411806225105028"
      ]
     },
     "execution_count": 79,
     "metadata": {},
     "output_type": "execute_result"
    }
   ],
   "source": [
    "compute_iou(image_t, upsampled_t, 19)"
   ]
  },
  {
   "cell_type": "markdown",
   "metadata": {},
   "source": [
    "Directly optimise a 16x32 image so, when upscaled to 128x256, it matches the ground truth:"
   ]
  },
  {
   "cell_type": "code",
   "execution_count": 98,
   "metadata": {},
   "outputs": [
    {
     "name": "stdout",
     "output_type": "stream",
     "text": [
      "0: 3.0139176845550537\n",
      "500: 1.7201625108718872\n",
      "1000: 0.8143423199653625\n",
      "1500: 0.39291131496429443\n",
      "2000: 0.23552897572517395\n",
      "2500: 0.17522184550762177\n",
      "3000: 0.14818604290485382\n",
      "3500: 0.13437117636203766\n",
      "4000: 0.1266273558139801\n",
      "4500: 0.12183939665555954\n",
      "5000: 0.11862239986658096\n",
      "5500: 0.11614368855953217\n",
      "6000: 0.11396302282810211\n",
      "6500: 0.11183629930019379\n",
      "7000: 0.10988885909318924\n",
      "7500: 0.10826878249645233\n",
      "8000: 0.10689917206764221\n",
      "8500: 0.10579486191272736\n",
      "9000: 0.10487770289182663\n",
      "9500: 0.10409264266490936\n",
      "Done\n"
     ]
    }
   ],
   "source": [
    "li = torch.rand(1, 20,16,32, requires_grad=True)\n",
    "truth = torch.tensor(image).unsqueeze(0).long()\n",
    "\n",
    "ce_loss = nn.CrossEntropyLoss(ignore_index=255)\n",
    "optimizer = torch.optim.Adam([li], lr=0.001)\n",
    "\n",
    "losses = []\n",
    "for i in range(10000):\n",
    "    up = F.interpolate(li, size=(128,256), mode='bilinear')\n",
    "    loss = ce_loss(up, truth)\n",
    "    \n",
    "    loss.backward()\n",
    "    optimizer.step()\n",
    "    \n",
    "    losses.append(loss.item())\n",
    "    \n",
    "    if i % 500 == 0:\n",
    "        print(f'{i}: {loss}')\n",
    "    \n",
    "print('Done')"
   ]
  },
  {
   "cell_type": "code",
   "execution_count": 103,
   "metadata": {},
   "outputs": [],
   "source": [
    "output = F.interpolate(li.clone().detach(), size=(128,256), mode='bilinear').squeeze().numpy()"
   ]
  },
  {
   "cell_type": "code",
   "execution_count": 105,
   "metadata": {},
   "outputs": [
    {
     "name": "stdout",
     "output_type": "stream",
     "text": [
      "(20, 128, 256)\n"
     ]
    },
    {
     "data": {
      "image/png": "[encoded data removed]",
      "text/plain": [
       "<Figure size 432x288 with 1 Axes>"
      ]
     },
     "metadata": {
      "needs_background": "light"
     },
     "output_type": "display_data"
    }
   ],
   "source": [
    "plt.imshow(rem255(output.argmax(0)))\n",
    "plt.show()"
   ]
  },
  {
   "cell_type": "code",
   "execution_count": 128,
   "metadata": {},
   "outputs": [
    {
     "name": "stdout",
     "output_type": "stream",
     "text": [
      "class=0, intersection=12823, union=14536\n",
      "class=1, intersection=407, union=559\n",
      "class=2, intersection=9243, union=10289\n",
      "class=3, intersection=0, union=0\n",
      "class=4, intersection=0, union=0\n",
      "class=5, intersection=48, union=403\n",
      "class=6, intersection=0, union=0\n",
      "class=7, intersection=468, union=609\n",
      "class=8, intersection=3259, union=3733\n",
      "class=9, intersection=1945, union=2254\n",
      "class=10, intersection=539, union=679\n",
      "class=11, intersection=20, union=37\n",
      "class=12, intersection=21, union=49\n",
      "class=13, intersection=601, union=728\n",
      "class=14, intersection=0, union=0\n",
      "class=15, intersection=0, union=0\n",
      "class=16, intersection=0, union=0\n",
      "class=17, intersection=0, union=0\n",
      "class=18, intersection=22, union=59\n",
      "class=19, intersection=0, union=0\n"
     ]
    },
    {
     "data": {
      "text/plain": [
       "0.6744541768758298"
      ]
     },
     "execution_count": 128,
     "metadata": {},
     "output_type": "execute_result"
    }
   ],
   "source": [
    "compute_iou(truth, torch.tensor(output.argmax(0)), 20)"
   ]
  }
 ],
 "metadata": {
  "kernelspec": {
   "display_name": "Python 3",
   "language": "python",
   "name": "python3"
  },
  "language_info": {
   "codemirror_mode": {
    "name": "ipython",
    "version": 3
   },
   "file_extension": ".py",
   "mimetype": "text/x-python",
   "name": "python",
   "nbconvert_exporter": "python",
   "pygments_lexer": "ipython3",
   "version": "3.7.2"
  }
 },
 "nbformat": 4,
 "nbformat_minor": 2
}
